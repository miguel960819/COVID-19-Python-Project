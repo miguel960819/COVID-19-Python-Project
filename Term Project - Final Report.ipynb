{
 "cells": [
  {
   "cell_type": "markdown",
   "metadata": {},
   "source": [
    "# Term Project - Final Report\n",
    "\n",
    "\n",
    "ESI4628: Decision Support Systems for Industrial Engineers<br>\n",
    "University of Central Florida\n",
    "Dr. Ozlem Ozmen"
   ]
  },
  {
   "cell_type": "markdown",
   "metadata": {},
   "source": [
    "### Title: Policy Effectiveness in Dealing with COVID-19\n",
    "### Team Number: 1\n",
    "#### Team Members Names: Miguel Angel, Sebastian Berdecia-Aparicio, Jordan Jacobs, Zachary VanderLaan\n",
    "\n"
   ]
  },
  {
   "cell_type": "markdown",
   "metadata": {},
   "source": [
    "### 1 Problem Statement : 18 Points (9 points each) (Word Count 400-500)\n",
    "**Note:** This section should include the following:\n",
    "+ Describe your project problem statement.\n",
    "\n",
    "Coronavirus Infectious disease 2019, better known as COVID-19, has spread rapidly, demonstrating how unprepared the world was to face a pandemic. Over the course of a year, many countries such as the United States still have an increasing number of cases. COVID-19 has accounted for many deaths and hospitalizations worldwide, which has led to many healthcare systems being overwhelmed. As of writing this, we are up to 68 million cases worldwide and nearly 1.6 million deaths. The U.S. case numbers are rising by over 600 thousand every day. These numbers will easily overload the healthcare system capacity in several major cities where the outbreak is centered. Many other countries are having similar increases in daily cases during this second wave of virus spread. To combat the spread, many countries implemented one or two effective policies at the right time but were not communicating enough for every country to optimize their timing and implementation of policies. There must be consistent measures between countries to eradicate a virus because it may be eradicated in one country but return due to a neighboring country's inability to contain the virus. Acknowledging the most effective strategies to control the COVID-19 spreading enables countries to mitigate COVID-19 more significantly than they are now and provide a guide for future pandemics. We are focusing on finding the trends relative to the policies implemented in every country to optimize their timing and policy implementation. In addition to specific policies, we will also analyze the strictness of policy implementation to understand better how to implement these policies.\n",
    "\n",
    "+ Given that DSS course material why did you chose to solve this problem?\n",
    "\n",
    "Given the DSS course material, we chose this problem because we believed that the course gave us the tools necessary to create an accurate and impactful dashboard. Being able to pull data from websites and cleaning that data allowed us to make accurate inferences based on the project's variables. Looking at statistical data allows inferences to be made for an individual country or a continent as a whole. Finding patterns and trends in the data would provide information on what policies made a difference or not. Being able to process and organize tens of thousands of data points. All of these factors contribute to our ability to use course material to solve this problem. We believe this problem is very pertinent to solve, and the modern-day skills we learn in this course are the best option to solve this time-sensitive, top-priority problem.\n"
   ]
  },
  {
   "cell_type": "markdown",
   "metadata": {},
   "source": [
    "### 2 Dataset : 30 Points (15 points each) (Word Count 400-500)\n",
    "**Note:** Handmade datasets will be rejected with no excuse entertained. This section should include the following:  \n",
    "+ Describe the dataset you chose for this project.\n",
    "\n",
    "\n",
    "The dataset that we chose for the project is divided into two CSV files. The \"owid-covid-data\" CSV file contains multiple variables about the COVID-19 over various countries around the world. The dates range from January 1st to November 20th and every country is listed from Afghanistan to Zimbabwe. Moreover, the team will be dealing mainly with the \"new_cases_per_million\" column that contains the new COVID-19 cases per million per day for all the countries, with the \"location\" column, that contains all the countries and the \"date\" column. \n",
    "\n",
    "The \"Oxford COVID-19 Government Response Tracker\" CSV file  is organized by country name, policy value, and policy type. Policy ranges from school and work closing to testing policy and stay at home requirements. Also as the previous CSV file, all countries are listed. The policy value column contains series of number ranges that represent the strictness of each policy type. 0 being the most lenient and 3-4, the most strict\n",
    "\n",
    "+ How was the data filtration performed?\n",
    "\n",
    "Originally the team had decided to conduct the analysis using the column of \"total_cases_per_million\", because the team thought that by analyzing the column of \"total_cases_per_million\" the COVID-19 cases per million in each country was going to be efficiently depicted, however, that was not the case because that column contains an accumulative of the COVID-19 cases per million throughout the year. Hence, the team decided to utilize the \" new_cases_per_million \" , which it much better depicted the distinction of the new COVID-19 cases among different countries throughout the year.\n",
    "\n",
    "On the other hand, for the \"Oxford COVID-19 Government Response Tracker\" CSV file, the team decided to create a table to filter countries by Policy Type and their level of PolicyValue. Once the team decided what variables were going to be considered from each of the two CSV files, the team open the two CSV files into the Jupyter notebook. For the 2-WAY ANOVA and the Mean Tables, the team had to merge both files in order to be able to compare the significance of the policy Type and the Policy value with the new COVID-19 cases, and to depict the mean of new COVID-19 cases and Policy Value and the max Policy value with their respective Policy Types, respectively. The data is called by series of groupby that retrieves the data of each specific country \n",
    "For the Plotly dashboard, the data was retrieved by a Drop-down filter that used a for loop that calls all the data of a specific country and sends them to the callback functions. In the callback functions the data is received from the DropDown filter and sent to the three distinct charts. Once the data  is sent to the graphs, the data is illustrated in the three graphs. \n"
   ]
  },
  {
   "cell_type": "markdown",
   "metadata": {},
   "source": [
    "### 3 Modeling Type and Technique: 42 Points(7 points each) (Word Count 400-500)\n",
    "**Note:** This section should include the following: \n",
    "+ Explain your model and all the steps involved in your modeling.\n",
    "\n",
    "For the modeling, the team developed a Plotly dashboard,  2-Way ANOVA tests and a mean table. The Plotly dashboard consists of 3 sections, which are the dashboard layout, callback functions and the link creation. In the dashboard layout there are 4 components, dropdown filter, 3 graphs and the Policy Type table. In the callback section the data is sent and filtered by countries and sent to the graphs to effectively illustrate the new COVID-19 cases per million of each country. Lastly, in the link creation a dashboard web link is created. Moreover, the 2-WAY ANOVA was conducted to determine the significance of Policy Types and policy values against the new COVID-19 cases per million in each country .A Mean table was also created to depict the mean and max values of various Policy Types in different countries.\n",
    "\n",
    "+ Explain all the visualization techniques used for this project. \n",
    "\n",
    "For the visualization techniques the team decided to utilize Plotly dashboard library to effectively illustrate the new COVID-19 cases per million per day of each country. BarChart, Line Chart and forecast Chart were the three tables that were performed to depict the data. Moreover, a PolicyType table was also created to show the different days and values in which each Policy type was implemented through the year. Using Prophet, a forecasting model that is commonly used for growth forecasting and has previously been used for forecasting COVID-19, the team created the forecast [2]. \n",
    "\n",
    "+ Explain clearly the results(outcomes) of your project.\n",
    "\n",
    "The results that we gained from our project was when we compared the three countries South Korea, Iran, and the United States there was a large variation in new cases per million. The United States had the largest new cases per million while South Korea had the lowest. With the forecast, Iran and the United States were projected to have more new cases per million than South Korea. However, South Korea had a higher variation of new cases per million. When it came to the policy mean table the United States had a higher policy value on average for 3 out of the 4 policies while South Korea had lower policy values on average for 3 out of the 4 policies. \n",
    "\n",
    "+ Explain performance analysis to justify your results.\n",
    "\n",
    "The 2-Way Anova test indicated that for all three countries we failed to reject the null hypothesis for policy type which confirmed no correlation between new cases per million and policy type. However, for policy value the null hypothesis was rejected thus conforming correlation between new cases per million and policy value in South Korea, Iran, and the United States. \n",
    "\n",
    "+ Explain the conclusions.\n",
    "\n",
    "The most important observation that can be made from the results of the overall project is that the level of strictness in enforcing a type of policy is much more significant than the actual policy type implemented. Mask mandates and lockdowns work, but how they are enforced dramatically affects the spread of COVID-19.  It is worth noting that certain countries, particularly those with collectivist cultures, fared better on average in comparison to individualist countries, like the US.\n",
    "Other than national preparedness levels and the scale of testing, many other factors contribute to the increase in caseload[1]. As a result, timely and strict measures should be used to mitigate the spread [3].\n",
    "\n",
    "\n",
    "+ What are the three real world use cases of your project.\n",
    "\n",
    "One case is using it as a tool to show communities how the type of policies (and their strictness) affect the spread of the virus.  Another case is having the project shown in classrooms across the country (or throughout different parts of the world) so students can see what the spread looks like across the globe.  A third case can be seen in using this project as a basis for future predictive models and displaying them for people to understand the risks their behavior(s) are causing.  \n"
   ]
  },
  {
   "cell_type": "markdown",
   "metadata": {},
   "source": [
    "### 4 References : 10 Points\n",
    "1. Chaudhry, Rabail, et al. “A Country Level Analysis Measuring the Impact of Government Actions, Country Preparedness and Socioeconomic Factors on COVID-19 Mortality and Related Health Outcomes.” E Clinical Medicine, The Lancet, 21 July 2020, www.thelancet.com/journals/eclinm/article/PIIS2589-5370(20)30208-X/fulltext.\n",
    "\n",
    "\n",
    "2. Sengupta, SOHINI, et al. “Covid-19 Pandemic Data Analysis and Forecasting Using Machine Learning Algorithms.” MedRxiv, Cold Spring Harbor Laboratory Press, 12 Aug. 2020, www.medrxiv.org/content/10.1101/2020.06.25.20140004v2.\n",
    "\n",
    "\n",
    "3. Tabari, Parinaz, et al. “International Public Health Responses to COVID-19 Outbreak: A Rapid Review.” Iranian Journal of Medical Sciences, Shiraz University of Medical Sciences, May 2020, www.ncbi.nlm.nih.gov/pmc/articles/PMC7253494/.\n",
    "\n"
   ]
  },
  {
   "cell_type": "markdown",
   "metadata": {},
   "source": [
    "_Last updated on 10.29.18 3:30am<br>\n",
    "(C) 2018 Complex Adaptive Systems Laboratory all rights reserved._"
   ]
  }
 ],
 "metadata": {
  "kernelspec": {
   "display_name": "Python 3",
   "language": "python",
   "name": "python3"
  },
  "language_info": {
   "codemirror_mode": {
    "name": "ipython",
    "version": 3
   },
   "file_extension": ".py",
   "mimetype": "text/x-python",
   "name": "python",
   "nbconvert_exporter": "python",
   "pygments_lexer": "ipython3",
   "version": "3.8.3"
  }
 },
 "nbformat": 4,
 "nbformat_minor": 2
}
